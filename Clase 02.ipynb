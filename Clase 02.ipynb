{
 "cells": [
  {
   "cell_type": "code",
   "execution_count": null,
   "metadata": {},
   "outputs": [],
   "source": [
    "import matplotlib.pyplot as plt\n",
    "import numpy as np"
   ]
  },
  {
   "cell_type": "markdown",
   "metadata": {},
   "source": [
    "## Pregunta 1\n",
    "\n",
    "La siguiente ecuación diferencial \n",
    "$$ y' = e^{-x^2} $$\n",
    "es separable y su solución general está dada por \n",
    "$$ y = \\int e^{-x^2} dx $$\n",
    "pero la función $f(x)= e^{-x^2}$ no tiene primitiva, por ende no es posible determinar una solución explícita. A pesar de lo anterior, es posible ver el comportamiento gráfico de la solución.\n",
    "\n",
    "* a) Construya un campo de direcciones asociado a la EDO.\n",
    "\n",
    "* b) Determine (si es posible) el comportamiento de $y$ cuando $x \\to \\infty$, para la condición inicial $y(3)=0$.\n",
    "\n",
    "* c) Justifique si la solución que pasa por $(3,0)$ es una función acotada.\n",
    "\n",
    "    * Recuerde que: Una función $f:I \\subset \\mathbb{R} \\to \\mathbb{R}$ se dice acotada, si existe $M > 0$ tal que\n",
    "$ |f(x)|< M , \\quad \\forall x \\in I.  $\n",
    "\n",
    "* d) A partir del campo de direcciones, justifique si existe alguna solución constante.\n",
    "\n",
    "## Solución:"
   ]
  },
  {
   "cell_type": "code",
   "execution_count": null,
   "metadata": {},
   "outputs": [],
   "source": []
  },
  {
   "cell_type": "markdown",
   "metadata": {},
   "source": [
    "## Pregunta 2\n",
    "\n",
    "Considere la ecuación diferencial\n",
    "$$ y'=y+2e^{-x} $$\n",
    "\n",
    "A continuación se presentan tres familias de curvas, de las cuales solo una de ellas es solución a la EDO:\n",
    "\n",
    "* $y=c e^x -e^{-x}$\n",
    "* $y=e^x-ce^{-x}$\n",
    "* $ y= \\ln(x+20)+xc $\n",
    "\n",
    "Sin resolver la EDO, grafique 2 curvas de cada familia, considerando un valor de $c$ positivo y otro negativo, identifiquelas con un mismo color a elección y justifique cuál de las familias anteriores es solución de la EDO.\n",
    "\n",
    "\n",
    "## Solución:"
   ]
  },
  {
   "cell_type": "code",
   "execution_count": null,
   "metadata": {},
   "outputs": [],
   "source": []
  },
  {
   "cell_type": "markdown",
   "metadata": {},
   "source": [
    "## Pregunta 3\n",
    "\n",
    "Considere la ecuación diferencial\n",
    "$$ y'=2xy^2 $$\n",
    "\n",
    "* a) Resuelva la EDO a través de variables separabales.\n",
    "* b) Verifique que $y=0$ también es solución de la EDO y que no pertenece a la familia de soluciones encontrada en (1) ¿Contradice esto el teorema de existencia y unicidad?\n",
    "* c) Construya un campo de direcciones asociado a la EDO.\n",
    "* d) Utilizando un ciclo `for`, grafique al menos 10 soluciones particulares sobre el campo de direcciones y compruebe que los resultados en 1. son correctos.\n",
    "\n",
    "\n",
    "\n",
    "## Solución:"
   ]
  },
  {
   "cell_type": "code",
   "execution_count": null,
   "metadata": {},
   "outputs": [],
   "source": []
  },
  {
   "cell_type": "markdown",
   "metadata": {},
   "source": [
    "## Pregunta 4\n",
    "\n",
    "Considere la EDO autónoma \n",
    "$$ e^{y} dy -(-4 + 7 y + 2 y^2)(y+1)dx = 0 $$\n",
    "\n",
    "* a) Justifique si la EDO es autónoma, en caso afirmativo, encuentre los puntos de equilibrio de la EDO. \n",
    "* c) Construya el campo de direcciones asociado a la EDO.\n",
    "* d) A partir de los resultados anteriores, establezca que ocurre con la solución $y(x)$ cuando $x \\to \\infty$ y cuando $x \\to -\\infty$ para diferentes condiciones iniciales.\n",
    "\n",
    "## Solución:"
   ]
  },
  {
   "cell_type": "code",
   "execution_count": null,
   "metadata": {},
   "outputs": [],
   "source": []
  },
  {
   "cell_type": "markdown",
   "metadata": {},
   "source": [
    "## Pregunta 5\n",
    "\n",
    "Dado un campo de direcciones asociado a una EDO de primer orden $y'=f(x,y)$, una *isoclina* corresponde a una curva que pasa por todos los puntos por donde las pendientes de las curvas solución son iguales, es decir, una isoclina corresponde a una curva de la forma $f(x,y)=C$, para $C \\in \\mathbb{R}$.\n",
    "\n",
    "Considere la EDO \n",
    "$$(1+x^2) dx + (x-y)dy = 0$$\n",
    "\n",
    "* a) Construya un campo de direcciones asociado a la EDO.\n",
    "* b) Grafique al menos 4 isoclinas para $C$ a elección. Verifique de manera visual que las isoclinas son parábolas y que estas efectivamente pasan donde las soluciones tienen igual pendiente.\n",
    "* c) Resuelva la EDO y encuentre la solución particular que pasa por $(0,4)$. Grafique la solución particular y verifique visualmente que es solución.\n",
    "\n",
    "\n",
    "## Solución:"
   ]
  },
  {
   "cell_type": "code",
   "execution_count": null,
   "metadata": {},
   "outputs": [],
   "source": []
  }
 ],
 "metadata": {
  "kernelspec": {
   "display_name": "Python 3",
   "language": "python",
   "name": "python3"
  },
  "language_info": {
   "codemirror_mode": {
    "name": "ipython",
    "version": 3
   },
   "file_extension": ".py",
   "mimetype": "text/x-python",
   "name": "python",
   "nbconvert_exporter": "python",
   "pygments_lexer": "ipython3",
   "version": "3.6.5"
  }
 },
 "nbformat": 4,
 "nbformat_minor": 5
}
