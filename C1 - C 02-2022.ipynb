{
 "cells": [
  {
   "cell_type": "markdown",
   "id": "bf676db1",
   "metadata": {},
   "source": [
    "import matplotlib.pyplot as plt\n",
    "import numpy as np"
   ]
  },
  {
   "cell_type": "markdown",
   "id": "f555d058",
   "metadata": {},
   "source": [
    "## Pregunta 1\n",
    "\n",
    "La siguiente ecuación diferencial \n",
    "$$ y' = e^{-x^2-y^2} \\ln|x| $$\n",
    "es **separable** y su solución general puede ser encontrada al integrando \n",
    "$$ \\int e^{y^2}  dy = \\int e^{-x^2} \\ln|x| dx $$\n",
    "pero ninguna de estas integrales se puede calcular con técnicas de integración usuales. A pesar de lo anterior, es posible estudiar el comportamiento de las soluciones de manera numérica.\n",
    "\n",
    "Considere el PVI\n",
    "\n",
    "$$  y'=  e^{-x^2-y^2} \\ln|x| \\quad ; \\quad y(2) = 4$$\n",
    "\n",
    "* a) Utilizando el método de Euler, determine una aproximación de $y(10)$ en las siguientes condiciones\n",
    "    \n",
    "    * Cantidad de iteraciones $n=300$\n",
    "    * Paso $h=0,1$ \n",
    "\n",
    "* b)  El valor de $y(10)$ se puede aproximar mediante la función error y la función hipergeométrica generalizada. Suponga que\n",
    "$$ y(10) \\approx 0,7213487756160880 $$\n",
    "y calcule el error en cada uno de los casos anteriores.\n",
    "\n",
    "## Solución:"
   ]
  },
  {
   "cell_type": "code",
   "execution_count": 26,
   "id": "992a3b85",
   "metadata": {},
   "outputs": [
    {
     "name": "stdout",
     "output_type": "stream",
     "text": [
      "RESPUESTAS\n",
      "\n",
      "a) La aproximación de y(10) es 4.000000030179966\n",
      "b) El error asociado al problema es 3.278651254563878\n"
     ]
    }
   ],
   "source": [
    "#x0 = 2\n",
    "#y0 = 4\n",
    "#h = 0.1\n",
    "#xn = 10\n",
    "\n",
    "def f(x, y): \n",
    "    return ((np.exp(-x**2-y**2)) * np.log(np.absolute(x)))\n",
    "\n",
    "def euler(f, x0, xn, y0, h):\n",
    "    x = np.linspace(1, 5, 300)\n",
    "    y = np.linspace(1, 5, 300)\n",
    "    y[0] = y0\n",
    "    j = 0\n",
    "    for i in range(len(y) -1):\n",
    "        y[i+1] = y[i] + h * f(x[i],y[i])\n",
    "        \n",
    "    return y\n",
    "\n",
    "def aproximacion(f, x0, xn, y0, h):\n",
    "    # Funcion que retorna una lista en la que el ultimo elemento es la aproximación\n",
    "    aprox = euler(f, x0, xn, y0, h)\n",
    "    if x0 <= xn:\n",
    "        aproximacion(f, h + x0, xn, np.mean(y0), h)    \n",
    "    return aprox\n",
    "\n",
    "x = np.linspace(1, 5, 300)\n",
    "y = np.linspace(1, 5, 300)\n",
    "\n",
    "# A) Calcular aproximacion de y(10) con 300 iteraciones y h=0.1\n",
    "\n",
    "u = aproximacion(f, 2, 10, 4, 0.1)\n",
    "\n",
    "print(\"RESPUESTAS\\n\")\n",
    "print(f\"a) La aproximación de y(10) es {u[-1]}\")\n",
    "\n",
    "# B) Error\n",
    "\n",
    "error = np.absolute(0.7213487756160880-u[-1])\n",
    "print(f\"b) El error asociado al problema es {error}\")\n",
    "\n",
    "\n"
   ]
  },
  {
   "cell_type": "markdown",
   "id": "85232ca4",
   "metadata": {},
   "source": [
    "## Pregunta 2\n",
    "\n",
    "El circuito eléctrico más sencillo está dado por \n",
    "\n",
    "<img src=\"1.png\">\n",
    "\n",
    "el circuito contiene un capacitor, un resistor y una fuente de voltaje. El comportamiento del resistor es definido por una constante positiva $R$ (la resistencia) medida en Ohms $[\\Omega]$, el del capacitor por una constante positiva $C$ (la capacitancia) medida en Faraday $[F]$. El voltaje de entrada a través de la fuente de voltage en un tiempo dado $t$ se denota por $V(t)$ medida en Volts $[V]$. Esta fuente de voltaje puede ser una fuente constante como la de una batería, o puede ser variable.\n",
    "\n",
    "Las variables que determinan el comportamiento del circuito en un tiempo particular $t$ son la corriente $i(t)$ y el voltaje a través del capacitor $v_c(t)$. La teoría de circuitos eléctricos establece que el voltaje $v_c$ satisface la ecuación diferencial\n",
    "$$ RC \\frac{d v_c}{dt} + v_c = V(t) $$\n",
    "\n",
    "Suponga que un determinado circuito $R=2 [\\Omega]$, $C=0.2 [F]$.\n",
    "\n",
    "* a) Reescriba la EDO con los datos entregados en su forma $ v_c ' = f(t, v_c) $ identificando las variables independiente y dependiente.\n",
    "\n",
    "* b) Suponga que el voltaje de entrada es nulo $V(t)=0 V$, construya un campo de direcciones asociado y describa el comportamiento de las soluciones conforme $t \\to \\infty$.\n",
    "\n",
    "* c) Suponga esta vez que el voltaje de entrada es constante $V(t)=20 V$. Determine soluciones de equilibrio.\n",
    "\n",
    "* d) Repita el análisis hecho en b) con $V(t)=20$.\n",
    "\n",
    "\n",
    "## Solución:"
   ]
  },
  {
   "cell_type": "markdown",
   "id": "9c93b884",
   "metadata": {},
   "source": [
    "RESPUESTA A"
   ]
  },
  {
   "cell_type": "code",
   "execution_count": 29,
   "id": "6aaa43c3",
   "metadata": {},
   "outputs": [
    {
     "name": "stdout",
     "output_type": "stream",
     "text": [
      "RESPUESTAS: \n",
      "\n",
      "La EDO en su forma 𝑣𝑐′ = 𝑓(𝑡,𝑣𝑐) es  Vc' = V(t) - Vc / 0.4 \n"
     ]
    }
   ],
   "source": [
    "print(\"RESPUESTAS: \\n\")\n",
    "# A) R * C * Vc' + Vc = V(t)\n",
    "#    0.4 * dVc/dt + Vc = V(t)\n",
    "#    0.4 * dy/dx + y = f(x,y)\n",
    "#    dy/dx = ( f(x,y) - y ) / 0.4\n",
    "\n",
    "#    Vc' = V(t) - Vc / 0.4\n",
    "rpta_a = \" Vc' = V(t) - Vc / 0.4 \"\n",
    "print (f\"La EDO en su forma 𝑣𝑐′ = 𝑓(𝑡,𝑣𝑐) es {rpta_a}\")\n",
    "\n",
    "# La variable t es la variable independiente\n",
    "# La variable Vc es la variable dependiente\n",
    "\n"
   ]
  },
  {
   "cell_type": "markdown",
   "id": "44c373be",
   "metadata": {},
   "source": [
    "RESPUESTA B"
   ]
  },
  {
   "cell_type": "code",
   "execution_count": null,
   "id": "a876c001",
   "metadata": {},
   "outputs": [],
   "source": [
    "X,Y=np.meshgrid(np.linspace(-5,5,12), np.linspace(-5,5,12))\n",
    "\n",
    "U = 1.0\n",
    "V = \n",
    "\n",
    "N = np.sqrt(U ** 2 + V ** 2)#Normalizamos los vectores\n",
    "U = U / N\n",
    "V = V / N\n",
    "\n",
    "plt.quiver(X, Y, U, V) #graficamos los vectores con origen en (x,y) y término (u,v)\n",
    "plt.xlim([-5, 5]) #limites en eje x\n",
    "plt.ylim([-5, 5]) #limites en eje y\n",
    "\n",
    "plt.xlabel('x') #etiqueta eje x\n",
    "plt.ylabel('y') #etiqueta eje y\n",
    "plt.grid()# para establecer red en la región\n",
    "\n",
    "x=np.linspace(-5,5, 200)\n",
    "f=\n",
    "plt.plot(x,f, label='f(x)')\n",
    "\n",
    "plt.legend()"
   ]
  }
 ],
 "metadata": {
  "kernelspec": {
   "display_name": "Python 3 (ipykernel)",
   "language": "python",
   "name": "python3"
  },
  "language_info": {
   "codemirror_mode": {
    "name": "ipython",
    "version": 3
   },
   "file_extension": ".py",
   "mimetype": "text/x-python",
   "name": "python",
   "nbconvert_exporter": "python",
   "pygments_lexer": "ipython3",
   "version": "3.9.7"
  }
 },
 "nbformat": 4,
 "nbformat_minor": 5
}
