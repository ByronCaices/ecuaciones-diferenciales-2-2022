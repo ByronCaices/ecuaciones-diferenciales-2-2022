{
 "cells": [
  {
   "cell_type": "code",
   "execution_count": 1,
   "id": "89f7c8b6",
   "metadata": {},
   "outputs": [],
   "source": [
    "from matplotlib import pyplot as plt\n",
    "import numpy as np"
   ]
  },
  {
   "cell_type": "markdown",
   "id": "32e7a9ad",
   "metadata": {},
   "source": [
    "## Métodos numéricos\n",
    "\n",
    "Cuando trabajamos con métodos numéricos en la resolución de ecuaciones diferenciales, el objetivo es encontrar un conjunto de valores que se aproximen una solución particular de la ecuación diferencial propuesta.\n",
    "\n",
    "Existen diferentes algoritmos que permiten implementar estos métodos numéricos, algunos más certeros que otros, y por tanto es posible (en ocasiones) estimar el error y decidir qué método emplear en cada etapa de la busqueda de una buena aproximación de la solución.\n",
    "\n",
    "Los métodos que se abordarán en esta parte del curso, corresponden a métodos para aproximar soluciones al problema de valores iniciales:\n",
    "\n",
    "$$ y'=f(x,y) \\quad ; \\quad y(x_0)=y_0 $$\n"
   ]
  },
  {
   "cell_type": "markdown",
   "id": "8a940c68",
   "metadata": {},
   "source": [
    "## Método de Euler\n",
    "\n",
    "Para el problema \n",
    "$$ y'=f(x,y) \\quad ; \\quad y(x_0)=y_0 $$\n",
    "el algoritmo asociado al método de Euler está dado por:\n",
    "\n",
    "Para $i=0,1, ... , n-1$ realizar <br>\n",
    "*    $ x_i = x_0+ih $ <br>\n",
    "*    $y_{i+1}= y_i +h f(x_i , y_i) $ <br>\n",
    "    \n",
    "Fin"
   ]
  },
  {
   "cell_type": "markdown",
   "id": "6b40993d",
   "metadata": {},
   "source": [
    "## Ejemplo 1\n",
    "\n",
    "Considere el problema de valores iniciales \n",
    "$$ y^2 dy - \\sqrt{3} x dx = 0 \\quad ; \\quad y(1)=2,$$\n",
    "* a) Utilice el método de Euler para encontrar una aproximación de $y(4)$ para el problema de valores iniciales utilizando $h=0,1$.\n",
    "* b) La solución al PVI está dada por $y=\\sqrt[3]{\\frac{3\\sqrt{3}}{2}x^2+8-\\frac{3\\sqrt{2}}{2}}$ (verifíquela en otra ocasión). En un mismo gráfico trace la solución aproximada y la solución explícita al PVI.\n",
    "\n",
    "* c) Calcule el error absoluto al problema.\n",
    "* d) Con los datos recabados concluya si es una buena aproximación."
   ]
  },
  {
   "cell_type": "code",
   "execution_count": 3,
   "id": "14b32b67",
   "metadata": {},
   "outputs": [
    {
     "data": {
      "image/png": "[encoded data removed]",
      "text/plain": [
       "<Figure size 432x288 with 1 Axes>"
      ]
     },
     "metadata": {
      "needs_background": "light"
     },
     "output_type": "display_data"
    },
    {
     "name": "stdout",
     "output_type": "stream",
     "text": [
      "\n",
      "El error del problema:  0.013491956332012833\n"
     ]
    }
   ],
   "source": [
    "# a) encontrar la aproximación utilizando Euler\n",
    "x = np.linspace(1, 4, 31)\n",
    "y = np.linspace(1, 4, 31)\n",
    "y[0] = 2\n",
    "h = 0.1\n",
    "\n",
    "for i in range(30):\n",
    "    y[i+1] = y[i] + h * (np.sqrt(3) * x[i]) / (y[i]**2)\n",
    "#   print(y[i+1])\n",
    "\n",
    "# b) graficar la funcion solución y la aproximada\n",
    "f = np.cbrt((3 * np.sqrt(3) / 2) * x**2 + 8 - (np.sqrt(2) * 3) / 2)\n",
    "\n",
    "plt.xlabel('X')\n",
    "plt.ylabel('Y')\n",
    "plt.plot(x, y,linewidth=2, linestyle=':', color= \"blue\", label= \"funcion\")\n",
    "plt.plot(x, f, linewidth=2, linestyle=':', color= \"red\", label= \"aproximación euler\")\n",
    "plt.grid()\n",
    "plt.legend()\n",
    "plt.show()\n",
    "\n",
    "# C) calcular error, la diferencia en el último punto obtenido por euler y la función\n",
    "error = np.abs(y[-1] - f[-1])\n",
    "print(\"\\nEl error del problema: \", error)\n",
    "\n",
    "# D) observando los gráficos se puede decir que es una buena aproximación\n",
    "    "
   ]
  },
  {
   "cell_type": "markdown",
   "id": "84981bd7",
   "metadata": {},
   "source": [
    "## Ejemplo 2\n",
    "\n",
    "* a) Defina una función en Python que permita encontrar una aproximación de $y(x_n)$ para el problema de valores iniciales general\n",
    "\n",
    "$$ y'(x)=f(x,y) \\quad , \\quad y(x_0)=y_0$$\n",
    "\n",
    "dados los datos de entrada $f(x,y), x_0, x_n, y_0, n$ (o $h$ en su defecto)\n",
    "\n",
    "* b) Utilice la función anterior para encontrar una aproximación de $y(0,5)$ al PVI\n",
    "\n",
    "$$ y'(x)=2xy^2 \\quad , \\quad y(0)=1$$ para ello utilice \n",
    "$h=0,1$ y $h=0,01$"
   ]
  },
  {
   "cell_type": "code",
   "execution_count": 93,
   "id": "8b6142a4",
   "metadata": {},
   "outputs": [
    {
     "data": {
      "text/plain": [
       "(-3.0, 3.0)"
      ]
     },
     "execution_count": 93,
     "metadata": {},
     "output_type": "execute_result"
    },
    {
     "data": {
      "image/png": "[encoded data removed]",
      "text/plain": [
       "<Figure size 432x288 with 1 Axes>"
      ]
     },
     "metadata": {
      "needs_background": "light"
     },
     "output_type": "display_data"
    }
   ],
   "source": [
    "def f(x, y): return 2*x*y**2\n",
    "\n",
    "def euler(f, x0, xn, y0, h):\n",
    "    x = np.linspace(-3, 3, 51)\n",
    "    y = np.linspace(-3, 3, 51)\n",
    "    y[0] = y0\n",
    "    j = 0\n",
    "    for i in range(len(y) -1):\n",
    "        y[i+1] = y[i] + h * f(x[i],y[i])\n",
    "        \n",
    "    return y\n",
    "\n",
    "def aproximacion(f, x0, xn, y0, h):\n",
    "    aprox = euler(f, x0, xn, y0, h)\n",
    "    if x0 <= xn:\n",
    "        aproximacion(f, h + x0, xn, np.mean(y0), h)    \n",
    "    return aprox\n",
    "        \n",
    "\n",
    "x = np.linspace(-3, 3, 51)\n",
    "n = euler(f, 0, 0.5, 1, 0.1)\n",
    "plt.plot(x, n, color=\"green\", linewidth=2, linestyle=\":\", label=\"función con h=0.1\")\n",
    "    \n",
    "c =euler(f, 0, 0.5, 1, 0.01)\n",
    "plt.plot(x, c, color=\"red\", linewidth=2, linestyle=\":\", label=\"función con h=0.1\")\n",
    "\n",
    "u = aproximacion(f, 0, 0.5, 1, 0.1)\n",
    "plt.plot(x, u, color=\"pink\", linewidth=2, linestyle=\":\", label=\"función aprox\")\n",
    "\n",
    "valor = np.linspace(0.5, 0.5, 51)\n",
    "plt.plot(x, valor, color=\"violet\")\n",
    "\n",
    "# hacer gráfico\n",
    "plt.grid()\n",
    "plt.legend()\n",
    "plt.xlabel(\"x\")\n",
    "plt.ylabel(\"y\")\n",
    "plt.xlim([-3, 3])\n",
    "plt.ylim([-3, 3])\n",
    "\n",
    "\n"
   ]
  },
  {
   "cell_type": "markdown",
   "id": "a81cfc34",
   "metadata": {},
   "source": [
    "En adición, si se desea utilizar las aproximaciones para confeccionar un gráfico, es posible utilizar un diccionario."
   ]
  },
  {
   "cell_type": "code",
   "execution_count": null,
   "id": "ef452e6a",
   "metadata": {},
   "outputs": [],
   "source": []
  },
  {
   "cell_type": "markdown",
   "id": "a04e0648",
   "metadata": {},
   "source": [
    "## Ejercicios adicionales\n",
    "\n",
    "* a) Considere el PVI\n",
    "$$ y'(t) = \\frac{y}{t} - \\left( \\frac{y}{t} \\right)^2 \\quad ; \\quad y(1)=1 $$\n",
    "encuentre una aproximación de $y(5)$ vía método de Euler, considerando\n",
    "    + $h=1$ \n",
    "    + $h=0,5$\n",
    "    \n",
    "* b) Verifique que $y(t) = \\dfrac{1}{1+\\ln|t|}$ es solución al PVI propuesto.\n",
    "* c) Grafique las aproximaciones de la solución y la solución explícita al problema en un mismo gráfico. Personalice el gráfico y las curvas a su elección. Intuitivamente ¿es una buena aproximación al problema?\n",
    "* d) Calcule el error absoluto.\n",
    "* e) Elabore un algoritmo que permita calcular el error global de sus aproximaciones."
   ]
  },
  {
   "cell_type": "code",
   "execution_count": 101,
   "id": "1db68466",
   "metadata": {},
   "outputs": [
    {
     "name": "stderr",
     "output_type": "stream",
     "text": [
      "C:\\Users\\arace\\AppData\\Local\\Temp\\ipykernel_2012\\3818414755.py:2: RuntimeWarning: divide by zero encountered in double_scalars\n",
      "  def f1(t, y): return (y/t) - (y/t)**2\n",
      "C:\\Users\\arace\\AppData\\Local\\Temp\\ipykernel_2012\\3818414755.py:2: RuntimeWarning: invalid value encountered in double_scalars\n",
      "  def f1(t, y): return (y/t) - (y/t)**2\n",
      "C:\\Users\\arace\\AppData\\Local\\Temp\\ipykernel_2012\\3818414755.py:2: RuntimeWarning: divide by zero encountered in double_scalars\n",
      "  def f1(t, y): return (y/t) - (y/t)**2\n",
      "C:\\Users\\arace\\AppData\\Local\\Temp\\ipykernel_2012\\3818414755.py:2: RuntimeWarning: invalid value encountered in double_scalars\n",
      "  def f1(t, y): return (y/t) - (y/t)**2\n",
      "C:\\Users\\arace\\AppData\\Local\\Temp\\ipykernel_2012\\3818414755.py:11: RuntimeWarning: divide by zero encountered in log\n",
      "  f = t/(1+ np.log(t))\n",
      "C:\\Users\\arace\\AppData\\Local\\Temp\\ipykernel_2012\\3818414755.py:11: RuntimeWarning: invalid value encountered in log\n",
      "  f = t/(1+ np.log(t))\n"
     ]
    },
    {
     "data": {
      "text/plain": [
       "Text(0.5, 1.0, 'Gráfico')"
      ]
     },
     "execution_count": 101,
     "metadata": {},
     "output_type": "execute_result"
    },
    {
     "data": {
      "image/png": "[encoded data removed]",
      "text/plain": [
       "<Figure size 432x288 with 1 Axes>"
      ]
     },
     "metadata": {
      "needs_background": "light"
     },
     "output_type": "display_data"
    }
   ],
   "source": [
    "# c)\n",
    "def f1(t, y): return (y/t) - (y/t)**2\n",
    "\n",
    "t = np.linspace(-3, 3, 51)\n",
    "n = euler(f1, 1, 5, 1, 1)\n",
    "plt.plot(t, n, color=\"green\", linewidth=2, linestyle=\":\", label=\"función con h=1\")\n",
    "\n",
    "c =euler(f1, 1, 5, 1, 0.5)\n",
    "plt.plot(t, c, color=\"red\", linewidth=2, linestyle=\":\", label=\"función con h=0.5\")\n",
    "\n",
    "f = t/(1+ np.log(t))\n",
    "plt.plot(t, f, color=\"blue\")\n",
    "\n",
    "\n",
    "'''\n",
    "for i in range(30):\n",
    "    y1[i+1] = y1[i] + h2 * ((y1[i] / t[i]) - (y1[i] / t[i])**2)\n",
    "    \n",
    "plt.plot(t, y1, color=\"blue\", linewidth=3, linestyle=\":\", label=\"función h =0.5\")\n",
    "\n",
    "\n",
    "\n",
    "\n",
    "# b) La solución tiene un t en el numerador en vez de 1\n",
    "\n",
    "# c) grafico solución y aproximaciones\n",
    "f = t / (np.log(t) + 1)\n",
    "plt.plot(t, f, color=\"green\", linewidth=3, linestyle=\"-\", label=\"función solución\")\n",
    "\n",
    "plt.xlim([-5, 5])\n",
    "plt.ylim([-5, 5])\n",
    "\n",
    "# Los gráficos no chocan, no me parece buena aproximación\n",
    "print(\"f:\\n\", f)\n",
    "print(\"y:\\n\", y)\n",
    "print(\"y1:\\n\", y1)\n",
    "# d) error\n",
    "\n",
    "'''\n",
    "\n",
    "# formato del gráfico\n",
    "plt.grid()\n",
    "plt.legend()\n",
    "plt.xlabel(\"x\")\n",
    "plt.ylabel(\"y\")\n",
    "plt.title(\"Gráfico\")"
   ]
  },
  {
   "cell_type": "code",
   "execution_count": null,
   "id": "30dd458c",
   "metadata": {},
   "outputs": [],
   "source": []
  }
 ],
 "metadata": {
  "kernelspec": {
   "display_name": "Python 3 (ipykernel)",
   "language": "python",
   "name": "python3"
  },
  "language_info": {
   "codemirror_mode": {
    "name": "ipython",
    "version": 3
   },
   "file_extension": ".py",
   "mimetype": "text/x-python",
   "name": "python",
   "nbconvert_exporter": "python",
   "pygments_lexer": "ipython3",
   "version": "3.9.12"
  }
 },
 "nbformat": 4,
 "nbformat_minor": 5
}
